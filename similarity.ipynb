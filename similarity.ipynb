{
 "cells": [
  {
   "cell_type": "code",
   "execution_count": null,
   "metadata": {},
   "outputs": [],
   "source": [
    "import torch\n",
    "from transformers import DistilBertForSequenceClassification, DistilBertTokenizer, AdamW\n",
    "from datasets import load_dataset\n",
    "from torch.utils.data import DataLoader, Dataset\n",
    "from torch.nn.utils.rnn import pad_sequence\n",
    "\n",
    "model = DistilBertForSequenceClassification.from_pretrained(\"distilbert-base-uncased\")\n",
    "tokenizer = DistilBertTokenizer.from_pretrained(\"distilbert-base-uncased\")\n",
    "\n",
    "dataset = load_dataset(\"glue\", \"stsb\")\n",
    "\n",
    "class STSDataset(Dataset):\n",
    "    def __init__(self, dataset, tokenizer):\n",
    "        self.data = dataset[\"train\"]\n",
    "        self.tokenizer = tokenizer\n",
    "\n",
    "    def __len__(self):\n",
    "        return len(self.data)\n",
    "\n",
    "    def __getitem__(self, idx):\n",
    "        pair = self.data[idx]\n",
    "        encoding = self.tokenizer(pair[\"sentence1\"], pair[\"sentence2\"], padding='max_length', truncation=True, max_length=128, return_tensors='pt')\n",
    "        label = torch.tensor([pair[\"label\"], 1.0 - pair[\"label\"]], dtype=torch.float32)  # Assuming binary classification\n",
    "        return {\"input_ids\": encoding[\"input_ids\"].squeeze(), \"attention_mask\": encoding[\"attention_mask\"].squeeze(), \"label\": label}\n",
    "\n",
    "train_dataset = STSDataset(dataset, tokenizer)\n",
    "train_dataloader = DataLoader(train_dataset, batch_size=8, shuffle=True)\n",
    "\n",
    "device = torch.device(\"cuda\" if torch.cuda.is_available() else \"cpu\")\n",
    "model.to(device)\n",
    "\n",
    "optimizer = AdamW(model.parameters(), lr=5e-5)\n",
    "\n",
    "for epoch in range(3): \n",
    "    for batch in train_dataloader:\n",
    "        input_ids = batch[\"input_ids\"].to(device)\n",
    "        attention_mask = batch[\"attention_mask\"].to(device)\n",
    "        labels = batch[\"label\"].to(device)\n",
    "\n",
    "        outputs = model(input_ids, attention_mask=attention_mask, labels=labels)\n",
    "        loss = outputs.loss\n",
    "        loss.backward()\n",
    "\n",
    "        optimizer.step()\n",
    "        optimizer.zero_grad()\n",
    "\n",
    "model.save_pretrained(\"fine_tuned_distilbert_sts\")\n"
   ]
  },
  {
   "cell_type": "code",
   "execution_count": null,
   "metadata": {},
   "outputs": [],
   "source": [
    "source_embedding = model.encode(ideal)\n",
    "comparison_sentences = [student]\n",
    "comparison_embeddings = model.encode(comparison_sentences)\n",
    "\n",
    "similarity_scores = util.pytorch_cos_sim(source_embedding, comparison_embeddings)[0].tolist()\n",
    "\n",
    "max_similarity = 1.0\n",
    "min_similarity = 0.0\n",
    "max_marks = 5\n",
    "\n",
    "\n",
    "for i, sentence in enumerate(comparison_sentences):\n",
    "    similarity_score = similarity_scores[i]\n",
    "    normalized_score = max(0, min(max_similarity, similarity_score))\n",
    "    marks = round(normalized_score * max_marks, 1)\n",
    "    print(f\"Similarity Score: {similarity_score}, Marks: {marks}\")"
   ]
  }
 ],
 "metadata": {
  "kernelspec": {
   "display_name": "Python 3",
   "language": "python",
   "name": "python3"
  },
  "language_info": {
   "codemirror_mode": {
    "name": "ipython",
    "version": 3
   },
   "file_extension": ".py",
   "mimetype": "text/x-python",
   "name": "python",
   "nbconvert_exporter": "python",
   "pygments_lexer": "ipython3",
   "version": "3.11.4"
  }
 },
 "nbformat": 4,
 "nbformat_minor": 2
}
